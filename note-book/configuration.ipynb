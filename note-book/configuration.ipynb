{
 "cells": [
  {
   "cell_type": "markdown",
   "id": "f777aafa",
   "metadata": {},
   "source": [
    "# UV\n",
    "\n",
    "UV is a kind of npm on the python ecosystem.\n",
    "\n",
    "The `pyproject.toml` is like a `package.json` and The `uv.lock` is kind of `package-lock.json`.\n",
    "\n",
    "It is made by rust. Sounds cool!\n",
    "\n",
    "```bash\n",
    "# initialize\n",
    "uv init\n",
    "# we can select which version of python should be used.\n",
    "uv init --python 3.13\n",
    "\n",
    "# add the package\n",
    "uv add jupyter notebook\n",
    "\n",
    "# install the deps\n",
    "uv sync\n",
    "# including dev deps\n",
    "uv sync --extra dev\n",
    "\n",
    "# configure the virtual environment. The venv is like a big shell on this project. Seems like the node_modules\n",
    "uv venv\n",
    "\n",
    "source .venv/bin/activate\n",
    "\n",
    "```"
   ]
  }
 ],
 "metadata": {
  "language_info": {
   "name": "python"
  }
 },
 "nbformat": 4,
 "nbformat_minor": 5
}
