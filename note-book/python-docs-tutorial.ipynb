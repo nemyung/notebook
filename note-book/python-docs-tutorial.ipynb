{
 "cells": [
  {
   "cell_type": "code",
   "execution_count": 5,
   "id": "3e128f92",
   "metadata": {},
   "outputs": [
    {
     "name": "stdout",
     "output_type": "stream",
     "text": [
      "5.0\n",
      "5\n",
      "14.0\n"
     ]
    }
   ],
   "source": [
    "# Data Types - number\n",
    "\n",
    "# The division(/) operator evaluates to a float\n",
    "this_is_float: float = (50 - 5 * 6) / 4\n",
    "print(this_is_float)  # 5.0\n",
    "\n",
    "# The floor division(//) operator evaluates to an int\n",
    "this_is_int: int = (50 - 5 * 6) // 4\n",
    "print(this_is_int)  # 5\n",
    "\n",
    "# Operator with mixed type operands always evaluate to the float\n",
    "print(4 * 3.75 - 1)  # 14.0s"
   ]
  },
  {
   "cell_type": "code",
   "execution_count": 6,
   "id": "3d8e7610",
   "metadata": {},
   "outputs": [
    {
     "ename": "NameError",
     "evalue": "name 'n' is not defined",
     "output_type": "error",
     "traceback": [
      "\u001b[31m---------------------------------------------------------------------------\u001b[39m",
      "\u001b[31mNameError\u001b[39m                                 Traceback (most recent call last)",
      "\u001b[36mCell\u001b[39m\u001b[36m \u001b[39m\u001b[32mIn[6]\u001b[39m\u001b[32m, line 3\u001b[39m\n\u001b[32m      1\u001b[39m \u001b[38;5;66;03m# Unlike Javascript, Python cannot parse the execution context.\u001b[39;00m\n\u001b[32m      2\u001b[39m \u001b[38;5;66;03m# The n is not hoisted. So the NameError is raised.\u001b[39;00m\n\u001b[32m----> \u001b[39m\u001b[32m3\u001b[39m \u001b[43mn\u001b[49m\n\u001b[32m      4\u001b[39m n = \u001b[32m1\u001b[39m\n",
      "\u001b[31mNameError\u001b[39m: name 'n' is not defined"
     ]
    }
   ],
   "source": [
    "# Unlike Javascript, Python cannot parse the execution context.\n",
    "# The n is not hoisted. So the NameError is raised.\n",
    "n\n",
    "n = 1"
   ]
  },
  {
   "cell_type": "code",
   "execution_count": null,
   "id": "900c600b",
   "metadata": {},
   "outputs": [
    {
     "name": "stdout",
     "output_type": "stream",
     "text": [
      "\n",
      "HELLO\n",
      "  WORLD HI\n",
      "     GOOD BYE\n",
      "\n"
     ]
    }
   ],
   "source": [
    "print(\"\"\"\n",
    "HELLO\n",
    "  WORLD HI\n",
    "     GOOD BYE\n",
    "\"\"\")\n"
   ]
  },
  {
   "cell_type": "code",
   "execution_count": null,
   "id": "635d3c81",
   "metadata": {},
   "outputs": [
    {
     "name": "stdout",
     "output_type": "stream",
     "text": [
      "Steven oh\n",
      "Semyung Oh is a good boy\n"
     ]
    }
   ],
   "source": [
    "# String concatenation is same as javascript:\n",
    "first_name: str = \"Steven\"\n",
    "last_name: str = \"oh\"\n",
    "print(first_name + \" \" + last_name)\n",
    "\n",
    "# This would be the case of string 'literal'\n",
    "print(\"Semyung Oh is a good boy\")"
   ]
  },
  {
   "cell_type": "code",
   "execution_count": null,
   "id": "0b7c1884",
   "metadata": {},
   "outputs": [
    {
     "name": "stdout",
     "output_type": "stream",
     "text": [
      "H\n",
      "d\n"
     ]
    }
   ],
   "source": [
    "hello_word: str = \"Hello, World\"\n",
    "\n",
    "print(hello_word[0])\n",
    "print(hello_word[-1])  # This is the last character, because -0 is same as 0."
   ]
  },
  {
   "cell_type": "code",
   "execution_count": null,
   "id": "093a032e",
   "metadata": {},
   "outputs": [
    {
     "name": "stdout",
     "output_type": "stream",
     "text": [
      "Py\n",
      "on\n",
      "y\n",
      "on\n"
     ]
    }
   ],
   "source": [
    "# string slicing\n",
    "# The start is always included, but the end is always excluded.\n",
    "name: str = \"Python\"\n",
    "print(name[:2])\n",
    "print(name[4:])\n",
    "print(name[1:2])\n",
    "print(name[-2:])"
   ]
  },
  {
   "cell_type": "code",
   "execution_count": null,
   "id": "28765eac",
   "metadata": {},
   "outputs": [
    {
     "ename": "IndexError",
     "evalue": "string index out of range",
     "output_type": "error",
     "traceback": [
      "\u001b[31m---------------------------------------------------------------------------\u001b[39m",
      "\u001b[31mIndexError\u001b[39m                                Traceback (most recent call last)",
      "\u001b[36mCell\u001b[39m\u001b[36m \u001b[39m\u001b[32mIn[30]\u001b[39m\u001b[32m, line 3\u001b[39m\n\u001b[32m      1\u001b[39m \u001b[38;5;66;03m# string: out of bounds error\u001b[39;00m\n\u001b[32m      2\u001b[39m name: \u001b[38;5;28mstr\u001b[39m = \u001b[33m\"\u001b[39m\u001b[33mPython\u001b[39m\u001b[33m\"\u001b[39m\n\u001b[32m----> \u001b[39m\u001b[32m3\u001b[39m \u001b[43mname\u001b[49m\u001b[43m[\u001b[49m\u001b[32;43m42\u001b[39;49m\u001b[43m]\u001b[49m\n",
      "\u001b[31mIndexError\u001b[39m: string index out of range"
     ]
    }
   ],
   "source": [
    "# string: out of bounds error\n",
    "name: str = \"Python\"\n",
    "name[42]"
   ]
  },
  {
   "cell_type": "code",
   "execution_count": null,
   "id": "42727431",
   "metadata": {},
   "outputs": [
    {
     "name": "stdout",
     "output_type": "stream",
     "text": [
      "Python\n",
      "\n"
     ]
    }
   ],
   "source": [
    "# string: slice cannot raise IndexError\n",
    "name: str = \"Python\"\n",
    "print(name[:42])\n",
    "print(name[42:])"
   ]
  },
  {
   "cell_type": "code",
   "execution_count": null,
   "id": "40506f9a",
   "metadata": {},
   "outputs": [
    {
     "name": "stdout",
     "output_type": "stream",
     "text": [
      "False\n",
      "True\n"
     ]
    }
   ],
   "source": [
    "# list\n",
    "squares: list[int] = [1, 4, 9, 16, 25]\n",
    "\n",
    "# Slicing returns a new list\n",
    "new_squares: list[int] = squares[:]\n",
    "print(id(new_squares))\n",
    "print(id(squares))\n",
    "print(new_squares is squares)  # false\n",
    "print(new_squares == squares)  # true\n"
   ]
  },
  {
   "cell_type": "code",
   "execution_count": null,
   "id": "10c9e660",
   "metadata": {},
   "outputs": [
    {
     "name": "stdout",
     "output_type": "stream",
     "text": [
      "Positive\n"
     ]
    }
   ],
   "source": [
    "# conditional\n",
    "\n",
    "x = int(input(\"Please enter an integer: \"))\n",
    "\n",
    "if x < 0:\n",
    "    print(\"Negative\")\n",
    "elif x == 0:\n",
    "    print(\"Zero\")\n",
    "elif x > 0:\n",
    "    print(\"Positive\")"
   ]
  },
  {
   "cell_type": "code",
   "execution_count": null,
   "id": "9efcc8d0",
   "metadata": {},
   "outputs": [
    {
     "name": "stdout",
     "output_type": "stream",
     "text": [
      "Cat 3\n",
      "Dog 3\n",
      "Bird 4\n",
      "abc -> John Doe\n",
      "asd1 -> Semyung Oh\n",
      "abc\n",
      "asd1\n",
      "John Doe\n",
      "Semyung Oh\n"
     ]
    }
   ],
   "source": [
    "# for loop\n",
    "\n",
    "words: list[str] = [\"Cat\", \"Dog\", \"Bird\"]\n",
    "for word in words:\n",
    "    print(word, len(word))\n",
    "\n",
    "user_by_id: dict[str, str] = {\"abc\": \"John Doe\", \"asd1\": \"Semyung Oh\"}\n",
    "for key, value in user_by_id.items():\n",
    "    print(key, \"->\", value)\n",
    "\n",
    "for key in user_by_id.keys():\n",
    "    print(key)\n",
    "\n",
    "for value in user_by_id.values():\n",
    "    print(value)\n"
   ]
  },
  {
   "cell_type": "code",
   "execution_count": null,
   "id": "6aaaccc5",
   "metadata": {},
   "outputs": [
    {
     "name": "stdout",
     "output_type": "stream",
     "text": [
      "0 printed\n",
      "1 printed\n",
      "2 printed\n",
      "3 printed\n",
      "4 printed\n",
      "1 printed. It starts from 1\n",
      "2 printed. It starts from 1\n",
      "3 printed. It starts from 1\n",
      "4 printed. It starts from 1\n",
      "5 printed. It starts from 1\n",
      "6 printed. It starts from 1\n",
      "7 printed. It starts from 1\n",
      "8 printed. It starts from 1\n",
      "9 printed. It starts from 1\n",
      "1 printed. step is 2\n",
      "3 printed. step is 2\n",
      "5 printed. step is 2\n",
      "7 printed. step is 2\n",
      "9 printed. step is 2\n",
      "[0, 1, 2, 3, 4, 5, 6, 7, 8, 9]\n",
      "[1, 3, 5, 7, 9]\n",
      "[-10, -20, -30, -40, -50, -60, -70, -80, -90]\n",
      "[-10]\n"
     ]
    }
   ],
   "source": [
    "# built in range function\n",
    "\n",
    "for i in range(5):  # generate arithmetic progression\n",
    "    print(f\"{i} printed\")  # The end point(5) is never part of sequence.\n",
    "\n",
    "for i in range(1, 10):  # start from 1\n",
    "    print(f\"{i} printed. It starts from 1\")\n",
    "\n",
    "for i in range(1, 1):\n",
    "    print(f\"{i} printed. It starts from 1 and end is 1\")\n",
    "\n",
    "for i in range(1, 10, 2):  # step is 2\n",
    "    print(f\"{i} printed. step is 2\")\n",
    "\n",
    "for i in range(\n",
    "    1, -1\n",
    "):  # If the start is greater then the end, the sequence is empty so the body step is not executed.\n",
    "    print(f\"{i} printed. step is negative\")\n",
    "\n",
    "print(list(range(10)))\n",
    "print(list(range(1, 10, 2)))\n",
    "print(list(range(-10, -100, -10)))\n",
    "\n",
    "print(list(range(-10, -100, -100)))  # [-10]\n"
   ]
  },
  {
   "cell_type": "code",
   "execution_count": null,
   "id": "8d56a756",
   "metadata": {},
   "outputs": [
    {
     "name": "stdout",
     "output_type": "stream",
     "text": [
      "0 h\n",
      "1 e\n",
      "2 l\n",
      "3 l\n",
      "4 o\n",
      "(0, 'h')\n",
      "(1, 'e')\n",
      "(2, 'l')\n",
      "(3, 'l')\n",
      "(4, 'o')\n",
      "0 h\n",
      "1 e\n",
      "2 l\n",
      "3 l\n",
      "4 o\n"
     ]
    }
   ],
   "source": [
    "a: list[str] = [\"h\", \"e\", \"l\", \"l\", \"o\"]\n",
    "\n",
    "for i in range(len(a)):\n",
    "    print(i, a[i])\n",
    "\n",
    "# tuple, entry\n",
    "for v in enumerate(a):\n",
    "    print(v)\n",
    "\n",
    "# unpacked key and value from tuple\n",
    "for k, v in enumerate(a):\n",
    "    print(k, v)"
   ]
  },
  {
   "cell_type": "markdown",
   "id": "a465692b",
   "metadata": {},
   "source": [
    "`range()` returns some object on which the `__iter__` property exists.\n",
    "\n",
    "When we iterate over it, the successive items of the desired sequence returns, but It does not really make the list\n",
    "\n",
    "This is called `iterable`. This object is for a function or constructs(statements such as `while`, `for`). the functions or constructs expect the parameter from which they can obtain `successive items` until the supply is exhausted.\n"
   ]
  },
  {
   "cell_type": "code",
   "execution_count": null,
   "id": "509402e1",
   "metadata": {},
   "outputs": [
    {
     "name": "stdout",
     "output_type": "stream",
     "text": [
      "The n 2 is started.\n",
      "The n 3 is started.\n",
      "The x 2 is started.\n",
      "The target 3 is not divisible by 2\n",
      "The n 4 is started.\n",
      "The x 2 is started.\n",
      "The target 4 is divisible by 2\n",
      "The n 5 is started.\n",
      "The x 2 is started.\n",
      "The target 5 is not divisible by 2\n",
      "The x 3 is started.\n",
      "The target 5 is not divisible by 3\n",
      "The x 4 is started.\n",
      "The target 5 is not divisible by 4\n",
      "The n 6 is started.\n",
      "The x 2 is started.\n",
      "The target 6 is divisible by 2\n",
      "The n 7 is started.\n",
      "The x 2 is started.\n",
      "The target 7 is not divisible by 2\n",
      "The x 3 is started.\n",
      "The target 7 is not divisible by 3\n",
      "The x 4 is started.\n",
      "The target 7 is not divisible by 4\n",
      "The x 5 is started.\n",
      "The target 7 is not divisible by 5\n",
      "The x 6 is started.\n",
      "The target 7 is not divisible by 6\n",
      "The n 8 is started.\n",
      "The x 2 is started.\n",
      "The target 8 is divisible by 2\n",
      "The n 9 is started.\n",
      "The x 2 is started.\n",
      "The target 9 is not divisible by 2\n",
      "The x 3 is started.\n",
      "The target 9 is divisible by 3\n"
     ]
    }
   ],
   "source": [
    "for n in range(2, 10):\n",
    "    print(f\"The n {n} is started.\")\n",
    "    for x in range(2, n):\n",
    "        print(f\"The x {x} is started.\")\n",
    "        if n % x == 0:\n",
    "            print(f\"The target {n} is divisible by {x}\")\n",
    "            break\n",
    "        else:\n",
    "            print(f\"The target {n} is not divisible by {x}\")"
   ]
  },
  {
   "cell_type": "code",
   "execution_count": null,
   "id": "a6ceae2b",
   "metadata": {},
   "outputs": [
    {
     "name": "stdout",
     "output_type": "stream",
     "text": [
      "Bad Request\n",
      "Something's wrong with the internet\n",
      "Client Error\n"
     ]
    }
   ],
   "source": [
    "# match: pattern matching\n",
    "\n",
    "\n",
    "def http_error(status: int) -> str:\n",
    "    match status:\n",
    "        case 400:\n",
    "            return \"Bad Request\"\n",
    "        case 401:\n",
    "            return \"Unauthorized\"\n",
    "        case 403:\n",
    "            return \"Forbidden\"\n",
    "        case 404:\n",
    "            return \"Not Found\"\n",
    "        case 418:\n",
    "            return \"I'm a teapot\"\n",
    "        case _:\n",
    "            return \"Something's wrong with the internet\"\n",
    "\n",
    "\n",
    "print(http_error(400))\n",
    "print(http_error(500))\n",
    "\n",
    "\n",
    "def http_error_2(status: int) -> str:\n",
    "    match status:\n",
    "        case 400 | 401 | 403 | 404:\n",
    "            return \"Client Error\"\n",
    "        case 500:\n",
    "            return \"Server Error\"\n",
    "        case _:\n",
    "            return \"Unknown Error\"\n",
    "\n",
    "\n",
    "print(http_error_2(404))"
   ]
  },
  {
   "cell_type": "code",
   "execution_count": null,
   "id": "01b6cef4",
   "metadata": {},
   "outputs": [
    {
     "name": "stdout",
     "output_type": "stream",
     "text": [
      "Origin\n",
      "Y axis: 10\n",
      "X axis: 10\n",
      "X axis: 10, Y axis: 10\n"
     ]
    }
   ],
   "source": [
    "class Point:\n",
    "    x: int\n",
    "    y: int\n",
    "\n",
    "    def __init__(self, x: int, y: int):\n",
    "        self.x = x\n",
    "        self.y = y\n",
    "\n",
    "\n",
    "def where_is(point: Point) -> str:\n",
    "    match point:\n",
    "        case Point(x=0, y=0):\n",
    "            return \"Origin\"\n",
    "        case Point(x=0, y=y):\n",
    "            return f\"Y axis: {y}\"\n",
    "        case Point(x=x, y=0):\n",
    "            return f\"X axis: {x}\"\n",
    "        case Point(x=x, y=y):\n",
    "            return f\"X axis: {x}, Y axis: {y}\"\n",
    "        case _:\n",
    "            raise ValueError(\"Not a point\")  # report unreachable.\n",
    "\n",
    "\n",
    "print(where_is(Point(0, 0)))\n",
    "print(where_is(Point(0, 10)))\n",
    "print(where_is(Point(10, 0)))\n",
    "print(where_is(Point(10, 10)))"
   ]
  },
  {
   "cell_type": "markdown",
   "id": "172dd7cd",
   "metadata": {},
   "source": [
    "# Functions\n",
    "\n",
    "- `def` keyword _defines_ a function, followed by name and the parameters.\n",
    "- The body of function must be indented.\n",
    "- The first _statement_ of function body can be **docstring**. This is literally the documentation.\n",
    "- When function is called, a new symbol table(variables) is created. However, the variables are not hoisted.\n",
    "- Python uses the lexical scope. However, the assignment is quite different from javascript land. _All variable assignments in function_ store the value in the local symbol table.\n",
    "- The arguments are passed by call by value where the value is always an object _reference_(same as objects in javascript).\n"
   ]
  },
  {
   "cell_type": "code",
   "execution_count": null,
   "id": "dc0962fc",
   "metadata": {},
   "outputs": [
    {
     "name": "stdout",
     "output_type": "stream",
     "text": [
      "inner scope x: 10\n",
      "outer scope x: 20\n"
     ]
    }
   ],
   "source": [
    "def outer():\n",
    "    x = 20\n",
    "\n",
    "    def inner():\n",
    "        x = 10\n",
    "        print(\"inner scope x:\", x)\n",
    "\n",
    "    inner()\n",
    "    print(\"outer scope x:\", x)\n",
    "\n",
    "\n",
    "outer()"
   ]
  },
  {
   "cell_type": "markdown",
   "id": "276906c5",
   "metadata": {},
   "source": [
    "The definition of function binds its name with the function _object_ in the current symbol table.\n",
    "Other variable names can point to same functions\n"
   ]
  },
  {
   "cell_type": "code",
   "execution_count": null,
   "id": "184b998f",
   "metadata": {},
   "outputs": [
    {
     "name": "stdout",
     "output_type": "stream",
     "text": [
      "<function foo at 0x10a4018a0>\n",
      "<function foo at 0x10a4018a0>\n",
      "True\n",
      "Steven  is a good boy\n",
      "Steven  is a good boy\n",
      "Oh Oh Oh  is a good boy\n",
      "Oh Oh Oh  is a good boy\n",
      "Hi Hi Hi  is a good boy\n",
      "Hi Hi Hi  is a good boy\n"
     ]
    }
   ],
   "source": [
    "def foo():\n",
    "    pass\n",
    "\n",
    "\n",
    "print(foo)\n",
    "foo_foo = foo\n",
    "print(foo_foo)\n",
    "print(foo is foo_foo)\n",
    "\n",
    "\n",
    "class NOT_USED:\n",
    "    name: str\n",
    "\n",
    "    def __init__(self, name: str):\n",
    "        self.name = name\n",
    "\n",
    "    def methods(self):\n",
    "        print(self.name, \" is a good boy\")\n",
    "\n",
    "    def change_name(self, name: str):\n",
    "        self.name = name\n",
    "\n",
    "\n",
    "not_used = NOT_USED(\"Steven\")\n",
    "not_used.methods()\n",
    "\n",
    "not_used_methods_variables = not_used.methods\n",
    "\n",
    "# Steven is a good boy.\n",
    "# Seems like I cannot change the self binding.\n",
    "not_used_methods_variables()\n",
    "\n",
    "not_used.name = \"Oh Oh Oh\"\n",
    "not_used.methods()\n",
    "not_used_methods_variables()\n",
    "\n",
    "not_used.change_name(\"Hi Hi Hi\")\n",
    "not_used.methods()\n",
    "not_used_methods_variables()"
   ]
  },
  {
   "cell_type": "code",
   "execution_count": null,
   "id": "3c59a402",
   "metadata": {},
   "outputs": [
    {
     "name": "stdout",
     "output_type": "stream",
     "text": [
      "1\n",
      "([],)\n",
      "[1]\n",
      "([1],)\n",
      "[1, 2]\n",
      "([1, 2],)\n",
      "[1, 2, 3]\n",
      "([1, 2, 3],)\n"
     ]
    }
   ],
   "source": [
    "# There are three forms to define functions with a variable number of arguments. They can be combined.\n",
    "\n",
    "# default arguments\n",
    "def this_is_default(x=1):\n",
    "    print(x)\n",
    "\n",
    "\n",
    "this_is_default()\n",
    "\n",
    "\n",
    "# BE CAREFUL WITH DEFAULT ARGUMENTS\n",
    "# The default value is evaluated only once.\n",
    "# And the default value is stored in the \"FUNCTION OBJECT\", not local symbol table or something on the outside.\n",
    "def hard_to_debug(a: int, lst: list[int] = []):\n",
    "    lst.append(a)\n",
    "    return lst\n",
    "\n",
    "\n",
    "print(hard_to_debug.__defaults__)\n",
    "print(hard_to_debug(1))\n",
    "print(hard_to_debug.__defaults__)\n",
    "print(hard_to_debug(2))\n",
    "print(hard_to_debug.__defaults__)\n",
    "print(hard_to_debug(3))\n",
    "print(hard_to_debug.__defaults__)"
   ]
  },
  {
   "cell_type": "markdown",
   "id": "e79e6557",
   "metadata": {},
   "source": [
    "Keyword arguments must follow positional arguments.\n",
    "The keyword must match one of the arguments accepted by the function.\n"
   ]
  },
  {
   "cell_type": "code",
   "execution_count": null,
   "id": "380b6cf8",
   "metadata": {},
   "outputs": [
    {
     "ename": "SyntaxError",
     "evalue": "positional argument follows keyword argument (4001953842.py, line 22)",
     "output_type": "error",
     "traceback": [
      "  \u001b[36mCell\u001b[39m\u001b[36m \u001b[39m\u001b[32mIn[27]\u001b[39m\u001b[32m, line 22\u001b[39m\n\u001b[31m    \u001b[39m\u001b[31mkeyword_args(10, state=\"dead\", \"hello\")\u001b[39m\n                                          ^\n\u001b[31mSyntaxError\u001b[39m\u001b[31m:\u001b[39m positional argument follows keyword argument\n"
     ]
    }
   ],
   "source": [
    "# Keyword arguments\n",
    "# The form is kwarg=value\n",
    "\n",
    "\n",
    "def keyword_args(\n",
    "    voltage: int, state: str = \"a stiff\", action: str = \"voom\", type: str = \"Beeeeee\"\n",
    "):\n",
    "    print(\"-- This parrot wouldn't\", action, end=\" \")\n",
    "    print(f\"If you put {voltage} volts through it.\")\n",
    "    print(f\"-- Loverly plumage, the {type}\")\n",
    "    print(f\"It is {state}!\")\n",
    "\n",
    "\n",
    "keyword_args(1000)  # positional argument\n",
    "keyword_args(voltage=20000)  # keyword argument\n",
    "keyword_args(voltage=1000, action=\"What\")\n",
    "keyword_args(10, state=\"dead\", type=\"lm\")\n",
    "\n",
    "\n",
    "# Positional argument cannot follow keyword argument\n",
    "# keyword_args(10, state=\"dead\", \"hello\")\n"
   ]
  },
  {
   "cell_type": "code",
   "execution_count": null,
   "id": "773f2fcc",
   "metadata": {},
   "outputs": [
    {
     "name": "stdout",
     "output_type": "stream",
     "text": [
      "1\n",
      "standard_arg calling. None\n",
      "hello\n",
      "pos_only_arg calling. None\n",
      "name\n",
      "keyword_only_arg calling. None\n",
      "1 hello asda\n",
      "cominbed_arg calling. None\n"
     ]
    }
   ],
   "source": [
    "from typing import Any\n",
    "\n",
    "\n",
    "def standard_arg(arg: Any):\n",
    "    print(arg)\n",
    "\n",
    "\n",
    "print(f\"standard_arg calling. {standard_arg(1)}\")\n",
    "\n",
    "\n",
    "def pos_only_arg(arg: Any, /):\n",
    "    print(arg)\n",
    "\n",
    "\n",
    "print(f\"pos_only_arg calling. {pos_only_arg('hello')}\")\n",
    "\n",
    "\n",
    "def keyword_only_arg(*, arg: Any):\n",
    "    print(arg)\n",
    "\n",
    "\n",
    "print(f\"keyword_only_arg calling. {keyword_only_arg(arg='name')}\")\n",
    "\n",
    "\n",
    "def combined_arg(pos_only: Any, /, standard: Any, *, keyword_only: Any):\n",
    "    print(pos_only, standard, keyword_only)\n",
    "\n",
    "\n",
    "print(f\"cominbed_arg calling. {combined_arg(1, standard='hello', keyword_only='asda')}\")"
   ]
  },
  {
   "cell_type": "code",
   "execution_count": null,
   "id": "fe4f5112",
   "metadata": {},
   "outputs": [
    {
     "name": "stdout",
     "output_type": "stream",
     "text": [
      "The result of append_example is [1, 2, 3, 4]\n",
      "The result of append_slice is [1, 2, 3, 4, 5, 6]\n"
     ]
    }
   ],
   "source": [
    "# 05. Data structures - append\n",
    "\n",
    "\n",
    "def append_example() -> list[int]:\n",
    "    a: list[int] = [1, 2, 3]\n",
    "    a.append(4)\n",
    "    return a\n",
    "\n",
    "\n",
    "def append_slice() -> list[int]:\n",
    "    a: list[int] = [1, 2, 3]\n",
    "    a[len(a) :] = [4, 5, 6]\n",
    "    return a\n",
    "\n",
    "\n",
    "print(f\"The result of append_example is {append_example()}\")\n",
    "print(f\"The result of append_slice is {append_slice()}\")\n"
   ]
  },
  {
   "cell_type": "code",
   "execution_count": 28,
   "id": "5a2a4593",
   "metadata": {},
   "outputs": [
    {
     "name": "stdout",
     "output_type": "stream",
     "text": [
      "The result of extend_with_list is [0, 1, 2, 3, 4, 5]\n",
      "The result of extend_with_tuple is [0, 1, 2, 3, 4, 5]\n",
      "The result of extend_with_dict is [0, 1, 2, 3, 4, 5]\n",
      "The result of extend_with_set is [0, 1, 2, 3, 4, 5]\n",
      "The result of extend_with_range is [0, 1, 2, 3, 4, 5]\n"
     ]
    }
   ],
   "source": [
    "# list.extend mutates the content of original data structure\n",
    "\n",
    "\n",
    "def extend_with_list() -> list[int]:\n",
    "    a: list[int] = [0, 1, 2]\n",
    "    a.extend([3, 4, 5])  # Mutate a\n",
    "    return a\n",
    "\n",
    "\n",
    "def extend_with_tuple() -> list[int]:\n",
    "    a: list[int] = [0, 1, 2]\n",
    "    a.extend((3, 4, 5))\n",
    "    return a\n",
    "\n",
    "\n",
    "def extend_with_dict() -> list[int]:\n",
    "    a: list[int] = [0, 1, 2]\n",
    "    # Python appends only keys of dictionary\n",
    "    # The insertion order is guaranteed in 3.7+\n",
    "    a.extend({3: \"foo\", 4: \"bar\", 5: 5})\n",
    "    return a\n",
    "\n",
    "\n",
    "def extend_with_set() -> list[int]:\n",
    "    a: list[int] = [0, 1, 2]\n",
    "    a.extend({3, 4, 5})\n",
    "    return a\n",
    "\n",
    "\n",
    "def extend_with_range() -> list[int]:\n",
    "    a: list[int] = [0, 1, 2]\n",
    "    a.extend(range(3, 6))\n",
    "    return a\n",
    "\n",
    "\n",
    "print(f\"The result of extend_with_list is {extend_with_list()}\")\n",
    "print(f\"The result of extend_with_tuple is {extend_with_tuple()}\")\n",
    "print(f\"The result of extend_with_dict is {extend_with_dict()}\")\n",
    "print(f\"The result of extend_with_set is {extend_with_set()}\")\n",
    "print(f\"The result of extend_with_range is {extend_with_range()}\")"
   ]
  },
  {
   "cell_type": "code",
   "execution_count": null,
   "id": "24df147b",
   "metadata": {},
   "outputs": [
    {
     "name": "stdout",
     "output_type": "stream",
     "text": [
      "The result of insert_start is ['Hello', 'World']\n",
      "The result of insert_end is ['Hello', 'World']\n",
      "The result of insert_mid is ['Hello', ',', 'World']\n",
      "The result is insert_big_index is [0, 1, 2, 3]\n",
      "The result is insert_negative_index is [0, 1, 2]. The negative index is same as the slice\n"
     ]
    }
   ],
   "source": [
    "# list.insert\n",
    "\n",
    "\n",
    "def insert_start():\n",
    "    lst: list[\"str\"] = [\"World\"]\n",
    "    lst.insert(0, \"Hello\")\n",
    "    print(f\"The result of insert_start is {lst}\")\n",
    "\n",
    "\n",
    "def insert_end():\n",
    "    lst: list[str] = [\"Hello\"]\n",
    "    lst.insert(len(lst), \"World\")\n",
    "    print(f\"The result of insert_end is {lst}\")\n",
    "\n",
    "\n",
    "def insert_mid():\n",
    "    lst: list[str] = [\"Hello\", \"World\"]\n",
    "    lst.insert(1, \",\")\n",
    "    print(f\"The result of insert_mid is {lst}\")\n",
    "\n",
    "\n",
    "def insert_big_index():\n",
    "    lst: list[int] = [0, 1, 2]\n",
    "    lst.insert(100, 3)\n",
    "    print(f\"The result is insert_big_index is {lst}\")\n",
    "\n",
    "\n",
    "def insert_negative_index():\n",
    "    lst: list[int] = [0, 2]\n",
    "    lst.insert(-1, 1)\n",
    "    print(\n",
    "        f\"The result is insert_negative_index is {lst}. The negative index is same as the slice\"\n",
    "    )\n",
    "\n",
    "\n",
    "insert_start()\n",
    "insert_end()\n",
    "insert_mid()\n",
    "insert_big_index()\n",
    "insert_negative_index()"
   ]
  },
  {
   "cell_type": "code",
   "execution_count": null,
   "id": "346387bb",
   "metadata": {},
   "outputs": [
    {
     "name": "stdout",
     "output_type": "stream",
     "text": [
      "Original list: [0, 1, 2]\n",
      "Copy list: [0, 2]\n",
      "list.remove(x): x not in list\n"
     ]
    }
   ],
   "source": [
    "# list.remove()\n",
    "\n",
    "\n",
    "def remove_specific_item(lst: list[int], v: int) -> list[int]:\n",
    "    copy = lst.copy()\n",
    "    copy.remove(v)\n",
    "    print(f\"Original list: {lst}\")\n",
    "    print(f\"Copy list: {copy}\")\n",
    "    return copy\n",
    "\n",
    "\n",
    "try:\n",
    "    remove_specific_item([0, 1, 2], 1)\n",
    "    remove_specific_item([], 0)\n",
    "except ValueError as error:\n",
    "    print(error)"
   ]
  },
  {
   "cell_type": "code",
   "execution_count": 56,
   "id": "14df7903",
   "metadata": {},
   "outputs": [
    {
     "name": "stdout",
     "output_type": "stream",
     "text": [
      "0 pop!\n",
      "Remaining Value is [1, 2]\n",
      "2 pop!\n",
      "Remaining Value is [0, 1]\n",
      "pop index out of range\n"
     ]
    }
   ],
   "source": [
    "# list.pop() pops an element at the specific index\n",
    "\n",
    "\n",
    "def pop_item(lst: list[int], idx: int):\n",
    "    copied = lst.copy()\n",
    "    popped = copied.pop(idx)\n",
    "    print(f\"{popped} pop!\")\n",
    "    print(f\"Remaining Value is {copied}\")\n",
    "\n",
    "\n",
    "try:\n",
    "    original: list[int] = [0, 1, 2]\n",
    "    pop_item(original, 0)\n",
    "    pop_item(original, -1)\n",
    "    pop_item(original, len(original))\n",
    "except IndexError as e:\n",
    "    print(e)"
   ]
  },
  {
   "cell_type": "markdown",
   "id": "e13272b5",
   "metadata": {},
   "source": [
    "# List comprehension\n",
    "\n",
    "- `Comprehension` is usually meant to \"understanding something\" but in this context, com(completely) + prehendere(to seize) is more correct nuiance.\n",
    "- The entire logic for the loop and condition is `contained` within a single expression.\n",
    "- It creates a new list by `encompassing` all the elements that meet the criteria.\n"
   ]
  },
  {
   "cell_type": "code",
   "execution_count": 62,
   "id": "96fffa9d",
   "metadata": {},
   "outputs": [
    {
     "name": "stdout",
     "output_type": "stream",
     "text": [
      "The result of traditional_loop is [0, 1, 4, 9, 16, 25, 36, 49, 64, 81]\n",
      "The result of map_with_lambda is [0, 1, 4, 9, 16, 25, 36, 49, 64, 81]\n",
      "The result of the_first_list_comprehension is [0, 1, 4, 9, 16, 25, 36, 49, 64, 81]\n"
     ]
    }
   ],
   "source": [
    "from typing import Callable\n",
    "\n",
    "\n",
    "def traditional_loop() -> list[int]:\n",
    "    squares: list[int] = []\n",
    "    for value in range(10):\n",
    "        squares.append(value**2)\n",
    "    return squares\n",
    "\n",
    "\n",
    "print(f\"The result of traditional_loop is {traditional_loop()}\")\n",
    "\n",
    "# Do not assign a `lambda` expression, use a `def`\n",
    "# Python does have kind of type inference when assigning lambda to the map\n",
    "my_first_lambda: Callable[int, int] = lambda x: x**2\n",
    "\n",
    "\n",
    "def map_with_lambda() -> list[int]:\n",
    "    return list(map(my_first_lambda, range(10)))\n",
    "\n",
    "\n",
    "print(f\"The result of map_with_lambda is {map_with_lambda()}\")\n",
    "\n",
    "\n",
    "def the_first_list_comprehension() -> list[int]:\n",
    "    return [value**2 for value in range(10)]\n",
    "\n",
    "\n",
    "print(f\"The result of the_first_list_comprehension is {the_first_list_comprehension()}\")"
   ]
  },
  {
   "cell_type": "code",
   "execution_count": null,
   "id": "7bedd534",
   "metadata": {},
   "outputs": [],
   "source": [
    "# A list comprehension consits of \"Brackets\" containing an \"Expression\" followed by a \"for\" caluse, then \"zero more more for or if clauses\"\n",
    "\n",
    "# combined = [\n",
    "#   (x, y)\n",
    "#     for x in [1, 2, 3]\n",
    "#       for y in [3, 1, 4]\n",
    "#         if x != y\n",
    "# ]\n",
    "\n",
    "# The mechanism\n",
    "# 1 is assigned to the x\n",
    "# 3 is assigned to y\n",
    "# check if x != y\n",
    "# If True, the tuple (x, y) is appended to the new list\n",
    "# If not, skip it.\n",
    "\n",
    "\n",
    "def demystify_list_comprehesnion():\n",
    "    combined: list[int] = []\n",
    "    for x in [1, 2, 3]:\n",
    "        for y in [3, 1, 4]:\n",
    "            if x != y:\n",
    "                combined.append((x, y))"
   ]
  },
  {
   "cell_type": "code",
   "execution_count": null,
   "id": "594ff9a2",
   "metadata": {},
   "outputs": [
    {
     "name": "stdout",
     "output_type": "stream",
     "text": [
      "The result of flatten_with_list_comprehension is [1, 2, 3, 4, 5, 6, 7, 8, 9]\n",
      "[[1, 5, 9], [2, 6, 10], [3, 7, 11], [4, 8, 12]]\n"
     ]
    }
   ],
   "source": [
    "def flatten_with_list_comprehension():\n",
    "    vec: list[list[int]] = [[1, 2, 3], [4, 5, 6], [7, 8, 9]]\n",
    "    return [elem for lst in vec for elem in lst]\n",
    "\n",
    "\n",
    "print(\n",
    "    f\"The result of flatten_with_list_comprehension is {flatten_with_list_comprehension()}\"\n",
    ")\n",
    "\n",
    "\n",
    "def nested_lst_comprehension():\n",
    "    matrix: list[list[int]] = [[1, 2, 3, 4], [5, 6, 7, 8], [9, 10, 11, 12]]\n",
    "    # initial expression can be any arbitrary expression, including another list comprehension\n",
    "    print([[row[i] for row in matrix] for i in range(4)])\n",
    "    # [row for row in matrix for col in row]\n",
    "\n",
    "\n",
    "nested_lst_comprehension()"
   ]
  },
  {
   "cell_type": "markdown",
   "id": "bb475186",
   "metadata": {},
   "source": [
    "# Modules\n",
    "\n",
    "```python\n",
    "# imports all names except those beginning with an underscore(_)\n",
    "from fibo import *\n",
    "```\n",
    "\n",
    "Usually, `__name__` is a filename of that module. If python interpreter directly execute that module, `__name__` is `__main__`. In this case, the module is main entry(`script`).\n"
   ]
  },
  {
   "cell_type": "code",
   "execution_count": null,
   "id": "cd510641",
   "metadata": {},
   "outputs": [],
   "source": [
    "# I/O\n",
    "\n",
    "\n",
    "def case_with_error():\n",
    "    f = None\n",
    "    try:\n",
    "        f = open(\"non_existent_file.txt\", \"w\", encoding=\"utf-8\")\n",
    "        f.write(\"This is unreachable\")\n",
    "    except FileNotFoundError:\n",
    "        print(\"File not found\")\n",
    "    except PermissionError:\n",
    "        print(\"Permission denied\")\n",
    "    except Exception as e:\n",
    "        print(f\"An unknown error occured: {e}\")\n",
    "    finally:\n",
    "        if f:\n",
    "            f.close()\n",
    "            print(\"File closed\")\n",
    "        else:\n",
    "            print(\"File not opened so this log would be triggered\")\n",
    "\n",
    "\n",
    "def case_with_error_with_with():\n",
    "    try:\n",
    "        with open(\"non_existent_file.txt\", \"w\", encoding=\"utf-8\") as f:\n",
    "            f.write(\"This is unreachable\")\n",
    "    except FileNotFoundError:\n",
    "        print(\"File not found\")\n",
    "    except PermissionError:\n",
    "        print(\"Permission denied\")\n",
    "    except Exception as e:\n",
    "        print(f\"An unknown error occured: {e}\")\n"
   ]
  },
  {
   "cell_type": "code",
   "execution_count": 1,
   "id": "aca051b4",
   "metadata": {},
   "outputs": [
    {
     "name": "stdout",
     "output_type": "stream",
     "text": [
      "[1, \"simple\", [1, 2, 3]]\n"
     ]
    }
   ],
   "source": [
    "import json\n",
    "\n",
    "x = [1, \"simple\", (1, 2, 3)]\n",
    "print(json.dumps(x))"
   ]
  },
  {
   "cell_type": "code",
   "execution_count": null,
   "id": "bc62e43f",
   "metadata": {},
   "outputs": [],
   "source": [
    "s: str = \"Hello, World!\"\n",
    "del s\n",
    "print(s)"
   ]
  }
 ],
 "metadata": {
  "kernelspec": {
   "display_name": ".venv",
   "language": "python",
   "name": "python3"
  },
  "language_info": {
   "codemirror_mode": {
    "name": "ipython",
    "version": 3
   },
   "file_extension": ".py",
   "mimetype": "text/x-python",
   "name": "python",
   "nbconvert_exporter": "python",
   "pygments_lexer": "ipython3",
   "version": "3.13.5"
  }
 },
 "nbformat": 4,
 "nbformat_minor": 5
}
