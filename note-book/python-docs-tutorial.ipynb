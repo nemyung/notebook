{
 "cells": [
  {
   "cell_type": "code",
   "execution_count": null,
   "id": "3e128f92",
   "metadata": {},
   "outputs": [
    {
     "name": "stdout",
     "output_type": "stream",
     "text": [
      "5.0\n",
      "5\n",
      "14.0\n"
     ]
    }
   ],
   "source": [
    "# Data Types - number\n",
    "\n",
    "# The division(/) operator evaluates to a float\n",
    "this_is_float: float = (50 - 5 * 6) / 4\n",
    "print(this_is_float)  # 5.0\n",
    "\n",
    "# The floor division(//) operator evaluates to an int\n",
    "this_is_int: int = (50 - 5 * 6) // 4\n",
    "print(this_is_int)  # 5\n",
    "\n",
    "# Operator with mixed type operands always evaluate to the float\n",
    "print(4 * 3.75 - 1)  # 14.0s"
   ]
  },
  {
   "cell_type": "code",
   "execution_count": null,
   "id": "3d8e7610",
   "metadata": {},
   "outputs": [
    {
     "ename": "NameError",
     "evalue": "name 'n' is not defined",
     "output_type": "error",
     "traceback": [
      "\u001b[31m---------------------------------------------------------------------------\u001b[39m",
      "\u001b[31mNameError\u001b[39m                                 Traceback (most recent call last)",
      "\u001b[36mCell\u001b[39m\u001b[36m \u001b[39m\u001b[32mIn[10]\u001b[39m\u001b[32m, line 1\u001b[39m\n\u001b[32m----> \u001b[39m\u001b[32m1\u001b[39m \u001b[43mn\u001b[49m\n\u001b[32m      2\u001b[39m n = \u001b[32m1\u001b[39m\n",
      "\u001b[31mNameError\u001b[39m: name 'n' is not defined"
     ]
    }
   ],
   "source": [
    "# Unlike Javascript, Python cannot parse the execution context.\n",
    "# The n is not hoisted. So the NameError is raised.\n",
    "n\n",
    "n = 1"
   ]
  },
  {
   "cell_type": "code",
   "execution_count": 22,
   "id": "900c600b",
   "metadata": {},
   "outputs": [
    {
     "name": "stdout",
     "output_type": "stream",
     "text": [
      "\n",
      "HELLO\n",
      "  WORLD HI\n",
      "     GOOD BYE\n",
      "\n"
     ]
    }
   ],
   "source": [
    "print(\"\"\"\n",
    "HELLO\n",
    "  WORLD HI\n",
    "     GOOD BYE\n",
    "\"\"\")\n"
   ]
  },
  {
   "cell_type": "code",
   "execution_count": null,
   "metadata": {},
   "outputs": [
    {
     "name": "stdout",
     "output_type": "stream",
     "text": [
      "Steven oh\n",
      "Semyung Oh is a good boy\n"
     ]
    }
   ],
   "source": [
    "# String concatenation is same as javascript:\n",
    "first_name: str = \"Steven\"\n",
    "last_name: str = \"oh\"\n",
    "print(first_name + \" \" + last_name)\n",
    "\n",
    "# This would be the case of string 'literal'\n",
    "print(\"Semyung Oh is a good boy\")"
   ]
  },
  {
   "cell_type": "code",
   "execution_count": null,
   "id": "0b7c1884",
   "metadata": {},
   "outputs": [
    {
     "name": "stdout",
     "output_type": "stream",
     "text": [
      "H\n",
      "d\n"
     ]
    }
   ],
   "source": [
    "hello_word: str = \"Hello, World\"\n",
    "\n",
    "print(hello_word[0])\n",
    "print(hello_word[-1])  # This is the last character, because -0 is same as 0."
   ]
  },
  {
   "cell_type": "code",
   "execution_count": null,
   "id": "093a032e",
   "metadata": {},
   "outputs": [
    {
     "name": "stdout",
     "output_type": "stream",
     "text": [
      "Py\n",
      "on\n",
      "y\n",
      "on\n"
     ]
    }
   ],
   "source": [
    "# string slicing\n",
    "# The start is always included, but the end is always excluded.\n",
    "name: str = \"Python\"\n",
    "print(name[:2])\n",
    "print(name[4:])\n",
    "print(name[1:2])\n",
    "print(name[-2:])"
   ]
  },
  {
   "cell_type": "code",
   "execution_count": 30,
   "id": "28765eac",
   "metadata": {},
   "outputs": [
    {
     "ename": "IndexError",
     "evalue": "string index out of range",
     "output_type": "error",
     "traceback": [
      "\u001b[31m---------------------------------------------------------------------------\u001b[39m",
      "\u001b[31mIndexError\u001b[39m                                Traceback (most recent call last)",
      "\u001b[36mCell\u001b[39m\u001b[36m \u001b[39m\u001b[32mIn[30]\u001b[39m\u001b[32m, line 3\u001b[39m\n\u001b[32m      1\u001b[39m \u001b[38;5;66;03m# string: out of bounds error\u001b[39;00m\n\u001b[32m      2\u001b[39m name: \u001b[38;5;28mstr\u001b[39m = \u001b[33m\"\u001b[39m\u001b[33mPython\u001b[39m\u001b[33m\"\u001b[39m\n\u001b[32m----> \u001b[39m\u001b[32m3\u001b[39m \u001b[43mname\u001b[49m\u001b[43m[\u001b[49m\u001b[32;43m42\u001b[39;49m\u001b[43m]\u001b[49m\n",
      "\u001b[31mIndexError\u001b[39m: string index out of range"
     ]
    }
   ],
   "source": [
    "# string: out of bounds error\n",
    "name: str = \"Python\"\n",
    "name[42]"
   ]
  },
  {
   "cell_type": "code",
   "execution_count": 32,
   "id": "42727431",
   "metadata": {},
   "outputs": [
    {
     "name": "stdout",
     "output_type": "stream",
     "text": [
      "Python\n",
      "\n"
     ]
    }
   ],
   "source": [
    "# string: slice cannot raise IndexError\n",
    "name: str = \"Python\"\n",
    "print(name[:42])\n",
    "print(name[42:])"
   ]
  },
  {
   "cell_type": "code",
   "execution_count": null,
   "id": "40506f9a",
   "metadata": {},
   "outputs": [
    {
     "name": "stdout",
     "output_type": "stream",
     "text": [
      "False\n",
      "True\n"
     ]
    }
   ],
   "source": [
    "# list\n",
    "squares: list[int] = [1, 4, 9, 16, 25]\n",
    "\n",
    "# Slicing returns a new list\n",
    "new_squares: list[int] = squares[:]\n",
    "print(id(new_squares))\n",
    "print(id(squares))\n",
    "print(new_squares is squares)  # false\n",
    "print(new_squares == squares)  # true\n"
   ]
  },
  {
   "cell_type": "code",
   "execution_count": null,
   "id": "10c9e660",
   "metadata": {},
   "outputs": [],
   "source": []
  }
 ],
 "metadata": {
  "kernelspec": {
   "display_name": ".venv",
   "language": "python",
   "name": "python3"
  },
  "language_info": {
   "codemirror_mode": {
    "name": "ipython",
    "version": 3
   },
   "file_extension": ".py",
   "mimetype": "text/x-python",
   "name": "python",
   "nbconvert_exporter": "python",
   "pygments_lexer": "ipython3",
   "version": "3.13.3"
  }
 },
 "nbformat": 4,
 "nbformat_minor": 5
}
