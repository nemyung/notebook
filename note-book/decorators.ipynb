{
 "cells": [
  {
   "cell_type": "code",
   "execution_count": null,
   "id": "0a194448",
   "metadata": {},
   "outputs": [
    {
     "name": "stdout",
     "output_type": "stream",
     "text": [
      "<function add at 0x1066ad260>\n"
     ]
    }
   ],
   "source": [
    "import functools\n",
    "\n",
    "\n",
    "def trace(func):\n",
    "    # The func argument is closed over to the wrapper function.\n",
    "    @functools.wraps(func)\n",
    "    def wrapper(*args, **kwargs):\n",
    "        result = func(*args, **kwargs)\n",
    "        print(f\"{func.__name__}({args!r}, {kwargs!r}) -> {result!r}\")\n",
    "        return result\n",
    "\n",
    "    return wrapper\n",
    "\n",
    "\n",
    "# It calls the trace function with the add function as an argument.\n",
    "@trace\n",
    "def add(a: int, b: int) -> int:\n",
    "    return a + b\n",
    "\n",
    "\n",
    "# The decorator function returns the wrapper function, so\n",
    "# the print(my_add) will print the wrapper function.\n",
    "# To prevent this, we can use the functools.wraps decorator.\n",
    "my_add = trace(add)\n",
    "print(my_add)\n"
   ]
  }
 ],
 "metadata": {
  "kernelspec": {
   "display_name": ".venv",
   "language": "python",
   "name": "python3"
  },
  "language_info": {
   "codemirror_mode": {
    "name": "ipython",
    "version": 3
   },
   "file_extension": ".py",
   "mimetype": "text/x-python",
   "name": "python",
   "nbconvert_exporter": "python",
   "pygments_lexer": "ipython3",
   "version": "3.13.5"
  }
 },
 "nbformat": 4,
 "nbformat_minor": 5
}
